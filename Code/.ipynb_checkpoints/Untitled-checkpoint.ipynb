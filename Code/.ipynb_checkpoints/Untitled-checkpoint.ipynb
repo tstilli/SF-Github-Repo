{
 "cells": [
  {
   "cell_type": "code",
   "execution_count": 14,
   "id": "1ff82776",
   "metadata": {},
   "outputs": [],
   "source": [
    "from Enrollment import *\n",
    "from To_CSV import *"
   ]
  },
  {
   "cell_type": "code",
   "execution_count": 15,
   "id": "adbfd221",
   "metadata": {},
   "outputs": [],
   "source": [
    "fleet1 = Enrollment_Form()"
   ]
  },
  {
   "cell_type": "code",
   "execution_count": 16,
   "id": "be8fe8a6",
   "metadata": {},
   "outputs": [],
   "source": [
    "dict1 = fleet1.create_dict()"
   ]
  },
  {
   "cell_type": "code",
   "execution_count": 17,
   "id": "0b39d839",
   "metadata": {},
   "outputs": [],
   "source": [
    "main_dfs = fleet1.merge_df(dict1)"
   ]
  },
  {
   "cell_type": "code",
   "execution_count": 19,
   "id": "5bbe4f4d",
   "metadata": {},
   "outputs": [],
   "source": [
    "csv_creator(main_dfs)"
   ]
  }
 ],
 "metadata": {
  "kernelspec": {
   "display_name": "Python 3 (ipykernel)",
   "language": "python",
   "name": "python3"
  },
  "language_info": {
   "codemirror_mode": {
    "name": "ipython",
    "version": 3
   },
   "file_extension": ".py",
   "mimetype": "text/x-python",
   "name": "python",
   "nbconvert_exporter": "python",
   "pygments_lexer": "ipython3",
   "version": "3.10.1"
  }
 },
 "nbformat": 4,
 "nbformat_minor": 5
}

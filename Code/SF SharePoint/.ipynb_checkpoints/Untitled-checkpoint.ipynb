{
 "cells": [
  {
   "cell_type": "code",
   "execution_count": 5,
   "id": "b34e6053",
   "metadata": {},
   "outputs": [
    {
     "name": "stdout",
     "output_type": "stream",
     "text": [
      "Requirement already satisfied: office365-REST-python-client in c:\\users\\tsingleton\\appdata\\local\\programs\\python\\python310\\lib\\site-packages (2.3.16)"
     ]
    },
    {
     "name": "stderr",
     "output_type": "stream",
     "text": [
      "WARNING: Ignoring invalid distribution -ip (c:\\users\\tsingleton\\appdata\\local\\programs\\python\\python310\\lib\\site-packages)"
     ]
    },
    {
     "name": "stdout",
     "output_type": "stream",
     "text": [
      "\n",
      "Requirement already satisfied: requests in c:\\users\\tsingleton\\appdata\\local\\programs\\python\\python310\\lib\\site-packages (from office365-REST-python-client) (2.21.0)\n",
      "Requirement already satisfied: msal in c:\\users\\tsingleton\\appdata\\local\\programs\\python\\python310\\lib\\site-packages (from office365-REST-python-client) (1.21.0)\n",
      "Requirement already satisfied: pytz in c:\\users\\tsingleton\\appdata\\local\\programs\\python\\python310\\lib\\site-packages (from office365-REST-python-client) (2022.1)\n",
      "Requirement already satisfied: PyJWT[crypto]<3,>=1.0.0 in c:\\users\\tsingleton\\appdata\\local\\programs\\python\\python310\\lib\\site-packages (from msal->office365-REST-python-client) (2.6.0)\n",
      "Requirement already satisfied: cryptography<41,>=0.6 in c:\\users\\tsingleton\\appdata\\local\\programs\\python\\python310\\lib\\site-packages (from msal->office365-REST-python-client) (37.0.4)\n",
      "Requirement already satisfied: chardet<3.1.0,>=3.0.2 in c:\\users\\tsingleton\\appdata\\local\\programs\\python\\python310\\lib\\site-packages (from requests->office365-REST-python-client) (3.0.4)\n",
      "Requirement already satisfied: idna<2.9,>=2.5 in c:\\users\\tsingleton\\appdata\\local\\programs\\python\\python310\\lib\\site-packages (from requests->office365-REST-python-client) (2.8)\n",
      "Requirement already satisfied: certifi>=2017.4.17 in c:\\users\\tsingleton\\appdata\\local\\programs\\python\\python310\\lib\\site-packages (from requests->office365-REST-python-client) (2021.10.8)\n",
      "Requirement already satisfied: urllib3<1.25,>=1.21.1 in c:\\users\\tsingleton\\appdata\\local\\programs\\python\\python310\\lib\\site-packages (from requests->office365-REST-python-client) (1.24.3)\n",
      "Requirement already satisfied: cffi>=1.12 in c:\\users\\tsingleton\\appdata\\roaming\\python\\python310\\site-packages (from cryptography<41,>=0.6->msal->office365-REST-python-client) (1.15.0)\n",
      "Requirement already satisfied: pycparser in c:\\users\\tsingleton\\appdata\\roaming\\python\\python310\\site-packages (from cffi>=1.12->cryptography<41,>=0.6->msal->office365-REST-python-client) (2.21)\n"
     ]
    },
    {
     "name": "stderr",
     "output_type": "stream",
     "text": [
      "\n",
      "WARNING: Ignoring invalid distribution -ip (c:\\users\\tsingleton\\appdata\\local\\programs\\python\\python310\\lib\\site-packages)\n",
      "WARNING: Ignoring invalid distribution -ip (c:\\users\\tsingleton\\appdata\\local\\programs\\python\\python310\\lib\\site-packages)\n",
      "WARNING: Ignoring invalid distribution -ip (c:\\users\\tsingleton\\appdata\\local\\programs\\python\\python310\\lib\\site-packages)\n"
     ]
    }
   ],
   "source": [
    "!pip install office365-REST-python-client"
   ]
  },
  {
   "cell_type": "code",
   "execution_count": 6,
   "id": "8d01ad6f",
   "metadata": {},
   "outputs": [
    {
     "ename": "ModuleNotFoundError",
     "evalue": "No module named 'office365.runtime.auth.user_credentials'",
     "output_type": "error",
     "traceback": [
      "\u001b[1;31m---------------------------------------------------------------------------\u001b[0m",
      "\u001b[1;31mModuleNotFoundError\u001b[0m                       Traceback (most recent call last)",
      "Input \u001b[1;32mIn [6]\u001b[0m, in \u001b[0;36m<cell line: 2>\u001b[1;34m()\u001b[0m\n\u001b[0;32m      1\u001b[0m \u001b[38;5;28;01mfrom\u001b[39;00m \u001b[38;5;21;01moffice365\u001b[39;00m\u001b[38;5;21;01m.\u001b[39;00m\u001b[38;5;21;01msharepoint\u001b[39;00m\u001b[38;5;21;01m.\u001b[39;00m\u001b[38;5;21;01mclient_context\u001b[39;00m \u001b[38;5;28;01mimport\u001b[39;00m ClientContext\n\u001b[1;32m----> 2\u001b[0m \u001b[38;5;28;01mfrom\u001b[39;00m \u001b[38;5;21;01moffice365\u001b[39;00m\u001b[38;5;21;01m.\u001b[39;00m\u001b[38;5;21;01mruntime\u001b[39;00m\u001b[38;5;21;01m.\u001b[39;00m\u001b[38;5;21;01mauth\u001b[39;00m\u001b[38;5;21;01m.\u001b[39;00m\u001b[38;5;21;01muser_credentials\u001b[39;00m \u001b[38;5;28;01mimport\u001b[39;00m UserCredential\n\u001b[0;32m      3\u001b[0m \u001b[38;5;28;01mfrom\u001b[39;00m \u001b[38;5;21;01moffice365\u001b[39;00m\u001b[38;5;21;01m.\u001b[39;00m\u001b[38;5;21;01msharepoint\u001b[39;00m\u001b[38;5;21;01m.\u001b[39;00m\u001b[38;5;21;01mfiles\u001b[39;00m\u001b[38;5;21;01m.\u001b[39;00m\u001b[38;5;21;01mfile\u001b[39;00m \u001b[38;5;28;01mimport\u001b[39;00m File\n",
      "\u001b[1;31mModuleNotFoundError\u001b[0m: No module named 'office365.runtime.auth.user_credentials'"
     ]
    }
   ],
   "source": [
    "from office365.sharepoint.client_context import ClientContext\n",
    "from office365.runtime.auth.user_credentials import UserCredential\n",
    "from office365.sharepoint.files.file import File"
   ]
  }
 ],
 "metadata": {
  "kernelspec": {
   "display_name": "Python 3 (ipykernel)",
   "language": "python",
   "name": "python3"
  },
  "language_info": {
   "codemirror_mode": {
    "name": "ipython",
    "version": 3
   },
   "file_extension": ".py",
   "mimetype": "text/x-python",
   "name": "python",
   "nbconvert_exporter": "python",
   "pygments_lexer": "ipython3",
   "version": "3.10.1"
  }
 },
 "nbformat": 4,
 "nbformat_minor": 5
}

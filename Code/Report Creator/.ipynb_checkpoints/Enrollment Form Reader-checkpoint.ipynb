{
 "cells": [
  {
   "cell_type": "code",
   "execution_count": 6,
   "id": "455d119d",
   "metadata": {},
   "outputs": [],
   "source": [
    "import pandas as pd\n",
    "import os\n",
    "import shutil\n",
    "from openpyxl import load_workbook"
   ]
  },
  {
   "cell_type": "code",
   "execution_count": 7,
   "id": "362b8f69",
   "metadata": {},
   "outputs": [],
   "source": [
    "enrollment_path = 'C:\\\\Users\\\\tsingleton\\\\Desktop\\\\CALSTART\\\\2. Sus Fleets\\\\4. Version Control Github\\\\SF-Github-Repo\\\\Report\\\\Fleet Enrollment Forms'\n",
    "report_file = 'C:\\\\Users\\\\tsingleton\\\\Desktop\\\\CALSTART\\\\2. Sus Fleets\\\\4. Version Control Github\\\\SF-Github-Repo\\\\Report\\\\SF Report.xlsm'\n",
    "enrollment_file = 'C:\\\\Users\\\\tsingleton\\\\Desktop\\\\CALSTART\\\\2. Sus Fleets\\\\4. Version Control Github\\\\SF-Github-Repo\\Report\\\\Sustainable Fleets Benchmark Form - Ordered Vehicles.xlsx'\n",
    "#"
   ]
  },
  {
   "cell_type": "code",
   "execution_count": 8,
   "id": "c0d34a18",
   "metadata": {},
   "outputs": [],
   "source": [
    "def excel_writter(file_name, df):\n",
    "    book = load_workbook(file_name, keep_vba = True)\n",
    "    writer = pd.ExcelWriter(file_name, engine = \"openpyxl\")\n",
    "    writer.book = book\n",
    "    writer.sheets = dict((ws.title, ws) for ws in book.worksheets)\n",
    "    df.to_excel(writer, index = False, header = False, startcol = 0, startrow = 0)\n",
    "    writer.save()\n",
    "    #df.to_excel(file_name, index = False)"
   ]
  },
  {
   "cell_type": "code",
   "execution_count": 9,
   "id": "7e883574",
   "metadata": {},
   "outputs": [],
   "source": [
    "def concat_dict(df_dict):\n",
    "    df = pd.DataFrame()\n",
    "    for key, value in df_dict.items():\n",
    "        df = pd.concat([df, value])\n",
    "    \n",
    "    return df"
   ]
  },
  {
   "cell_type": "code",
   "execution_count": 10,
   "id": "c5e22208",
   "metadata": {},
   "outputs": [],
   "source": [
    "for file in os.listdir(enrollment_path):\n",
    "    #define names and paths for files\n",
    "    fleet_name = file.split('Sustainable')[0]\n",
    "    new_file = shutil.copy(report_file, report_file.replace('SF Report.xlsm',fleet_name+' SF Report.xlsm'))\n",
    "    path = enrollment_path+'\\\\'+file\n",
    "    \n",
    "    #create dictionary for current fleet with all relevant data\n",
    "    data_dict = {sheet: pd.read_excel(path, sheet_name = sheet) for sheet in ['Database ZEV', 'Database BYD', 'Database RYD', 'Database Fuel', 'Database User']}\n",
    "    \n",
    "    #concatenate dictionary into one dataframe for the current fleet\n",
    "    complete_df = concat_dict(data_dict)\n",
    "    \n",
    "    #write dataframe to excel\n",
    "    excel_writter(new_file, complete_df)"
   ]
  }
 ],
 "metadata": {
  "kernelspec": {
   "display_name": "Python 3 (ipykernel)",
   "language": "python",
   "name": "python3"
  },
  "language_info": {
   "codemirror_mode": {
    "name": "ipython",
    "version": 3
   },
   "file_extension": ".py",
   "mimetype": "text/x-python",
   "name": "python",
   "nbconvert_exporter": "python",
   "pygments_lexer": "ipython3",
   "version": "3.10.1"
  }
 },
 "nbformat": 4,
 "nbformat_minor": 5
}

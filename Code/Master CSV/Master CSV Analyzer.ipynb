{
 "cells": [
  {
   "cell_type": "code",
   "execution_count": 1,
   "id": "745e6dae",
   "metadata": {},
   "outputs": [],
   "source": [
    "import pandas as pd\n",
    "import os"
   ]
  },
  {
   "cell_type": "code",
   "execution_count": 2,
   "id": "a21fc6f6",
   "metadata": {},
   "outputs": [],
   "source": [
    "path = os.getcwd()+'/'+'Master Sheets'"
   ]
  },
  {
   "cell_type": "code",
   "execution_count": 3,
   "id": "2ef315d4",
   "metadata": {},
   "outputs": [
    {
     "data": {
      "text/plain": [
       "['Master BYD.csv',\n",
       " 'Master Fuel.csv',\n",
       " 'Master RYD.csv',\n",
       " 'Master User.csv',\n",
       " 'Master ZEV.csv']"
      ]
     },
     "execution_count": 3,
     "metadata": {},
     "output_type": "execute_result"
    }
   ],
   "source": [
    "os.listdir(path)"
   ]
  },
  {
   "cell_type": "markdown",
   "id": "86c0f42d",
   "metadata": {},
   "source": [
    "**Questions**\n",
    "\n",
    "- Generate list of enrolled fleets and date of enrollment.\n",
    "- What is average fleet rank?\n",
    "- What is average fleet size in the program?\n",
    "- What is the most common vehicle type?\n",
    "- What is the most common ZEV vehicle type?\n",
    "- How has the popularity of certain fuel types changed over the course of the program? \n",
    "    - Graph/data that shows how the number for gasoline engine vehicles has changed\n",
    "    - Probably not possible. Need dates to go with vehicles numbers.\n",
    "- "
   ]
  }
 ],
 "metadata": {
  "kernelspec": {
   "display_name": "Python 3 (ipykernel)",
   "language": "python",
   "name": "python3"
  },
  "language_info": {
   "codemirror_mode": {
    "name": "ipython",
    "version": 3
   },
   "file_extension": ".py",
   "mimetype": "text/x-python",
   "name": "python",
   "nbconvert_exporter": "python",
   "pygments_lexer": "ipython3",
   "version": "3.10.1"
  }
 },
 "nbformat": 4,
 "nbformat_minor": 5
}

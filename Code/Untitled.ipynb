{
 "cells": [
  {
   "cell_type": "code",
   "execution_count": 1,
   "id": "1ff82776",
   "metadata": {},
   "outputs": [],
   "source": [
    "from Enrollment import *\n",
    "from To_CSV import *"
   ]
  },
  {
   "cell_type": "code",
   "execution_count": 2,
   "id": "adbfd221",
   "metadata": {},
   "outputs": [],
   "source": [
    "fleet1 = Enrollment_Form()"
   ]
  },
  {
   "cell_type": "code",
   "execution_count": 3,
   "id": "be8fe8a6",
   "metadata": {},
   "outputs": [],
   "source": [
    "dict1 = fleet1.create_dict()"
   ]
  },
  {
   "cell_type": "code",
   "execution_count": 4,
   "id": "03ae0f86",
   "metadata": {},
   "outputs": [],
   "source": [
    "main_dfs = fleet1.merge_df(dict1)"
   ]
  },
  {
   "cell_type": "code",
   "execution_count": 5,
   "id": "f8d602a5",
   "metadata": {},
   "outputs": [],
   "source": [
    "csv_creator(main_dfs)"
   ]
  }
 ],
 "metadata": {
  "kernelspec": {
   "display_name": "Python 3 (ipykernel)",
   "language": "python",
   "name": "python3"
  },
  "language_info": {
   "codemirror_mode": {
    "name": "ipython",
    "version": 3
   },
   "file_extension": ".py",
   "mimetype": "text/x-python",
   "name": "python",
   "nbconvert_exporter": "python",
   "pygments_lexer": "ipython3",
   "version": "3.10.1"
  }
 },
 "nbformat": 4,
 "nbformat_minor": 5
}
